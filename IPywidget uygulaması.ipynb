{
 "cells": [
  {
   "cell_type": "code",
   "execution_count": 72,
   "id": "13118e6a-f973-4797-8c05-101f8b08abb1",
   "metadata": {},
   "outputs": [
    {
     "data": {
      "application/vnd.jupyter.widget-view+json": {
       "model_id": "04e1c5b9d73540618d3ef722ea379279",
       "version_major": 2,
       "version_minor": 0
      },
      "text/plain": [
       "FileUpload(value=(), accept='.csv', description='Upload')"
      ]
     },
     "metadata": {},
     "output_type": "display_data"
    },
    {
     "data": {
      "application/vnd.jupyter.widget-view+json": {
       "model_id": "709a587c10954396bbfc789d566e7003",
       "version_major": 2,
       "version_minor": 0
      },
      "text/plain": [
       "SelectMultiple(description='Eraser:', options=('tab', ','), value=())"
      ]
     },
     "metadata": {},
     "output_type": "display_data"
    },
    {
     "data": {
      "application/vnd.jupyter.widget-view+json": {
       "model_id": "49fa19985f984c8690728dbba0273437",
       "version_major": 2,
       "version_minor": 0
      },
      "text/plain": [
       "RadioButtons(description='Separator:', options=(',', ';', '\\t'), value=',')"
      ]
     },
     "metadata": {},
     "output_type": "display_data"
    },
    {
     "data": {
      "application/vnd.jupyter.widget-view+json": {
       "model_id": "6f780b77f8d147e1b953c6a34cdd0aa8",
       "version_major": 2,
       "version_minor": 0
      },
      "text/plain": [
       "IntSlider(value=0, description='# of lines:', max=10)"
      ]
     },
     "metadata": {},
     "output_type": "display_data"
    },
    {
     "data": {
      "application/vnd.jupyter.widget-view+json": {
       "model_id": "91bbe9239afe4f46a8571d090aa1f075",
       "version_major": 2,
       "version_minor": 0
      },
      "text/plain": [
       "Output()"
      ]
     },
     "metadata": {},
     "output_type": "display_data"
    }
   ],
   "source": [
    "import ipywidgets as widgets\n",
    "from IPython.display import display\n",
    "\n",
    "up = widgets.FileUpload(accept=\".csv\", multiple=False)\n",
    "out = widgets.Output()\n",
    "eraser = widgets.SelectMultiple(options=['tab', ','], description=\"Eraser:\")\n",
    "delim = widgets.RadioButtons(options=[',', ';', '\\t'], description=\"Separator:\")\n",
    "rows = widgets.IntSlider(value=0, min=0, max=10, step=1, description=\"# of lines:\")\n",
    "\n",
    "display(up, eraser, delim, rows, out)\n",
    "\n",
    "import ipywidgets as widgets\n",
    "import pandas as pd\n",
    "import numpy as np\n",
    "from io import StringIO  # ← bu satır düzeltildi\n",
    "import matplotlib.pyplot as plt\n",
    "%matplotlib inline\n"
   ]
  },
  {
   "cell_type": "markdown",
   "id": "57245240-2811-4664-a36a-f0c0b6f96cbb",
   "metadata": {},
   "source": [
    "# TABS"
   ]
  },
  {
   "cell_type": "code",
   "execution_count": 3,
   "id": "797287d9-e493-4bc4-9ce4-2065258280f8",
   "metadata": {},
   "outputs": [
    {
     "data": {
      "application/vnd.jupyter.widget-view+json": {
       "model_id": "e171d385de32408aa564556b576228bd",
       "version_major": 2,
       "version_minor": 0
      },
      "text/plain": [
       "Tab(children=(Label(value=''), Label(value=''), Label(value='')), selected_index=0, titles=('Upload', 'Describ…"
      ]
     },
     "execution_count": 3,
     "metadata": {},
     "output_type": "execute_result"
    }
   ],
   "source": [
    "tab = widgets.Tab()\n",
    "placeholder = widgets.Label()\n",
    "tab.children = [placeholder,placeholder,placeholder]\n",
    "tab.set_title(0, \"Upload\")\n",
    "tab.set_title(1, \"Describer\")\n",
    "tab.set_title(2, \"Plotter\")\n",
    "tab\n"
   ]
  },
  {
   "cell_type": "markdown",
   "id": "6ef22171-94d5-4435-a054-8bf48959bf97",
   "metadata": {},
   "source": [
    "# FİLE UPLOAD WİDGET"
   ]
  },
  {
   "cell_type": "code",
   "execution_count": 7,
   "id": "6f0d9f74-1777-44ba-9dfd-2ad19b23fb73",
   "metadata": {},
   "outputs": [],
   "source": [
    "tab = widgets.Tab()\n",
    "placeholder = widgets.Label()"
   ]
  },
  {
   "cell_type": "markdown",
   "id": "48a28ca9-579e-4a91-be5f-a2c7cd6b8f52",
   "metadata": {},
   "source": [
    "# OUTPUT WİDGET"
   ]
  },
  {
   "cell_type": "code",
   "execution_count": 74,
   "id": "01039bfa-7a32-4e32-9364-c32c2d679eea",
   "metadata": {},
   "outputs": [
    {
     "data": {
      "application/vnd.jupyter.widget-view+json": {
       "model_id": "2f90a44f88d24a62bcccf349b748aa5a",
       "version_major": 2,
       "version_minor": 0
      },
      "text/plain": [
       "Tab(children=(FileUpload(value=(), accept='.csv', description='Upload'), Output(layout=Layout(border_bottom='1…"
      ]
     },
     "execution_count": 74,
     "metadata": {},
     "output_type": "execute_result"
    }
   ],
   "source": [
    "out = widgets.Output(layout={'border': '1px solid black'})\n",
    "tab.children = [up,out,out]\n",
    "tab\n"
   ]
  },
  {
   "cell_type": "markdown",
   "id": "72f04abc-feef-48a9-a9b4-5b1d94dfbe5c",
   "metadata": {},
   "source": [
    "# SELECT MULTİPLE WİDGET"
   ]
  },
  {
   "cell_type": "code",
   "execution_count": 14,
   "id": "0fe6b755-d1f4-4451-a84e-540dfe73b45b",
   "metadata": {},
   "outputs": [
    {
     "data": {
      "application/vnd.jupyter.widget-view+json": {
       "model_id": "c40706b36df145d4a77ca34e12714385",
       "version_major": 2,
       "version_minor": 0
      },
      "text/plain": [
       "SelectMultiple(description='Eraser: ', index=(0,), options=('tab', ''), value=('tab',))"
      ]
     },
     "execution_count": 14,
     "metadata": {},
     "output_type": "execute_result"
    }
   ],
   "source": [
    "eraser = widgets.SelectMultiple(\n",
    "    options=['tab',''],\n",
    "    value=['tab'],\n",
    "    #rows=10,\n",
    "    description='Eraser: ',\n",
    "    disabled=False\n",
    ")\n",
    "eraser\n"
   ]
  },
  {
   "cell_type": "markdown",
   "id": "65cbec2e-f851-4397-8b25-f05333cc86e4",
   "metadata": {},
   "source": [
    "# RADİO BUTTONS WİDGET"
   ]
  },
  {
   "cell_type": "code",
   "execution_count": 17,
   "id": "f5410c3e-2dc1-450b-8e82-9db2e849ec2f",
   "metadata": {},
   "outputs": [
    {
     "data": {
      "application/vnd.jupyter.widget-view+json": {
       "model_id": "244e065bfa1341b3bdae384622819254",
       "version_major": 2,
       "version_minor": 0
      },
      "text/plain": [
       "RadioButtons(description='Separator: ', options=(';', ',', ' '), value=';')"
      ]
     },
     "execution_count": 17,
     "metadata": {},
     "output_type": "execute_result"
    }
   ],
   "source": [
    "delim = widgets.RadioButtons(\n",
    "    options=[';',',',' '],\n",
    "    description='Separator: ',\n",
    "    disabled=False\n",
    ")\n",
    "delim\n"
   ]
  },
  {
   "cell_type": "markdown",
   "id": "2be0b609-8774-4c91-bf5f-214f12c9a206",
   "metadata": {},
   "source": [
    "# INTSLİDER"
   ]
  },
  {
   "cell_type": "code",
   "execution_count": 20,
   "id": "df7a71eb-766c-4a5b-868d-8e122c9b83c3",
   "metadata": {},
   "outputs": [
    {
     "data": {
      "application/vnd.jupyter.widget-view+json": {
       "model_id": "821a0f4b327f4bc290aa17670f12f25a",
       "version_major": 2,
       "version_minor": 0
      },
      "text/plain": [
       "IntSlider(value=0, continuous_update=False, description='# of lines:')"
      ]
     },
     "execution_count": 20,
     "metadata": {},
     "output_type": "execute_result"
    }
   ],
   "source": [
    "rows = widgets.IntSlider(\n",
    "    value=0,\n",
    "    step=1,\n",
    "    description='# of lines:',\n",
    "    disabled=False,\n",
    "    continuous_update=False,\n",
    "    orientation='horizontal',\n",
    "    readout=True,\n",
    "    readout_format='d'\n",
    ")\n",
    "rows\n"
   ]
  },
  {
   "cell_type": "markdown",
   "id": "cee7b73c-d3c9-47b9-923d-87453df5c29a",
   "metadata": {},
   "source": [
    "# ACCORDİON WİDGET"
   ]
  },
  {
   "cell_type": "code",
   "execution_count": 25,
   "id": "623f6b35-4d33-447d-ab31-962c0ff8a6cc",
   "metadata": {},
   "outputs": [
    {
     "data": {
      "application/vnd.jupyter.widget-view+json": {
       "model_id": "e5d6f1eb2b114fa7a7b53f28b2bd82a9",
       "version_major": 2,
       "version_minor": 0
      },
      "text/plain": [
       "Accordion(children=(FileUpload(value=(), description='Upload'), RadioButtons(description='Separator: ', option…"
      ]
     },
     "execution_count": 25,
     "metadata": {},
     "output_type": "execute_result"
    }
   ],
   "source": [
    "up = widgets.FileUpload(accept='', multiple=False)\n",
    "\n",
    "accordion = widgets.Accordion()\n",
    "accordion.children=[\n",
    "    up,\n",
    "    delim,\n",
    "    rows]\n",
    "accordion.set_title(0,'File Selection')\n",
    "accordion.set_title(1,'Delimiter')\n",
    "accordion.set_title(2,'Skip Rows')\n",
    "accordion\n"
   ]
  },
  {
   "cell_type": "markdown",
   "id": "f53bd147-50d8-4203-a2fc-44850c5bc7cb",
   "metadata": {},
   "source": [
    "# IPLOAD BUTTON"
   ]
  },
  {
   "cell_type": "code",
   "execution_count": 114,
   "id": "8562e6fb-8b89-40aa-bf47-a53f05600d6d",
   "metadata": {},
   "outputs": [
    {
     "data": {
      "application/vnd.jupyter.widget-view+json": {
       "model_id": "1781614e2a67448796bb07ab2f2b1d7d",
       "version_major": 2,
       "version_minor": 0
      },
      "text/plain": [
       "Button(button_style='warning', description='Upload', icon='check', style=ButtonStyle(), tooltip='Click to Uplo…"
      ]
     },
     "execution_count": 114,
     "metadata": {},
     "output_type": "execute_result"
    }
   ],
   "source": [
    "button_upload = widgets.Button(\n",
    "    description='Upload',\n",
    "    disabled=False,\n",
    "    button_style='warning',\n",
    "    tooltip='Click to Upload',\n",
    "    icon='check'\n",
    ")\n",
    "button_upload\n",
    "\n"
   ]
  },
  {
   "cell_type": "markdown",
   "id": "54e91ff6-8b58-497f-8bfd-9bc3a480dfc8",
   "metadata": {},
   "source": [
    "# PREWİEV BUTTON"
   ]
  },
  {
   "cell_type": "code",
   "execution_count": 31,
   "id": "3230e38f-4b4e-4cbc-88a0-b54de0af3cef",
   "metadata": {},
   "outputs": [
    {
     "data": {
      "application/vnd.jupyter.widget-view+json": {
       "model_id": "b29c515d91a84101ac47487fbf4524c6",
       "version_major": 2,
       "version_minor": 0
      },
      "text/plain": [
       "Button(button_style='info', description='Preview', icon='search', style=ButtonStyle(), tooltip='Click to Previ…"
      ]
     },
     "execution_count": 31,
     "metadata": {},
     "output_type": "execute_result"
    }
   ],
   "source": [
    "button_preview = widgets.Button(\n",
    "    description='Preview',\n",
    "    disabled=False,\n",
    "    button_style='info',\n",
    "    tooltip='Click to Preview',\n",
    "    icon='search'\n",
    ")\n",
    "button_preview\n"
   ]
  },
  {
   "cell_type": "markdown",
   "id": "655d87dd-7877-47e9-b9e1-6ccd5e9ff65a",
   "metadata": {},
   "source": [
    "# PLOT BUTTON"
   ]
  },
  {
   "cell_type": "code",
   "execution_count": 34,
   "id": "a54bbc9c-190b-4ad8-9a63-574c1acb85a2",
   "metadata": {},
   "outputs": [
    {
     "data": {
      "application/vnd.jupyter.widget-view+json": {
       "model_id": "366fcb03441c463d879ae097ce355346",
       "version_major": 2,
       "version_minor": 0
      },
      "text/plain": [
       "Button(button_style='danger', description='Plot', icon='pencil', style=ButtonStyle(), tooltip='Click to Plot')"
      ]
     },
     "execution_count": 34,
     "metadata": {},
     "output_type": "execute_result"
    }
   ],
   "source": [
    "button_plot = widgets.Button(\n",
    "    description='Plot',\n",
    "    disabled=False,\n",
    "    button_style='danger',\n",
    "    tooltip='Click to Plot',\n",
    "    icon='pencil'\n",
    ")\n",
    "button_plot\n"
   ]
  },
  {
   "cell_type": "markdown",
   "id": "96e96567-ae69-46ef-b906-07237b421299",
   "metadata": {},
   "source": [
    "# GROUPİNG-VBOX"
   ]
  },
  {
   "cell_type": "code",
   "execution_count": 37,
   "id": "0c7696db-ab77-4015-857f-9420c1fff81f",
   "metadata": {},
   "outputs": [
    {
     "data": {
      "application/vnd.jupyter.widget-view+json": {
       "model_id": "83be58fca88840948e4511f1b14b1e1e",
       "version_major": 2,
       "version_minor": 0
      },
      "text/plain": [
       "VBox(children=(RadioButtons(description='Separator: ', options=(';', ',', ' '), value=';'), SelectMultiple(des…"
      ]
     },
     "execution_count": 37,
     "metadata": {},
     "output_type": "execute_result"
    }
   ],
   "source": [
    "vb = widgets.VBox([delim, eraser])\n",
    "vb\n"
   ]
  },
  {
   "cell_type": "markdown",
   "id": "b63b4f44-2121-480c-9b23-c6fd539b3142",
   "metadata": {},
   "source": [
    "# GROUPİNG-HBOX"
   ]
  },
  {
   "cell_type": "code",
   "execution_count": 40,
   "id": "56a309bf-44e0-4e8d-adad-d085e8e49282",
   "metadata": {},
   "outputs": [
    {
     "data": {
      "application/vnd.jupyter.widget-view+json": {
       "model_id": "2468e4f95ab94657b5d0ca44558257f1",
       "version_major": 2,
       "version_minor": 0
      },
      "text/plain": [
       "HBox(children=(RadioButtons(description='Separator: ', options=(';', ',', ' '), value=';'), SelectMultiple(des…"
      ]
     },
     "execution_count": 40,
     "metadata": {},
     "output_type": "execute_result"
    }
   ],
   "source": [
    "hb = widgets.HBox([delim, eraser])\n",
    "hb\n"
   ]
  },
  {
   "cell_type": "markdown",
   "id": "09cb7694-0dcc-446f-8245-2eb56f6cfc7b",
   "metadata": {},
   "source": [
    "# ACCORDİON GROUPİNG VE BUTON GRUPLAMA"
   ]
  },
  {
   "cell_type": "code",
   "execution_count": 43,
   "id": "fc51926e-7623-4bd3-8ab1-0f721c7b21d5",
   "metadata": {},
   "outputs": [
    {
     "data": {
      "application/vnd.jupyter.widget-view+json": {
       "model_id": "71983fb50c954cffa27f1baed9d3264d",
       "version_major": 2,
       "version_minor": 0
      },
      "text/plain": [
       "VBox(children=(Accordion(children=(FileUpload(value=(), description='Upload'), VBox(children=(RadioButtons(des…"
      ]
     },
     "execution_count": 43,
     "metadata": {},
     "output_type": "execute_result"
    }
   ],
   "source": [
    "accordion.children=[\n",
    "    up,\n",
    "    widgets.VBox([delim, eraser]),\n",
    "    rows]\n",
    "\n",
    "accordion_box = widgets.VBox([\n",
    "    accordion,\n",
    "    widgets.HBox([button_preview, button_upload]),\n",
    "    out\n",
    "])\n",
    "accordion_box\n"
   ]
  },
  {
   "cell_type": "markdown",
   "id": "c4de33a0-4d6c-42fc-9022-f6c3a717a865",
   "metadata": {},
   "source": [
    "# TOGGLE BUTTONS WİDGET"
   ]
  },
  {
   "cell_type": "code",
   "execution_count": 46,
   "id": "78288496-1675-4e1a-bf77-5fe7de15c12b",
   "metadata": {},
   "outputs": [
    {
     "data": {
      "application/vnd.jupyter.widget-view+json": {
       "model_id": "701a6016c64b468e9bd3a57edc8cdcc1",
       "version_major": 2,
       "version_minor": 0
      },
      "text/plain": [
       "ToggleButtons(button_style='warning', description='Options', icons=('search', 'info', 'tachometer'), options=(…"
      ]
     },
     "execution_count": 46,
     "metadata": {},
     "output_type": "execute_result"
    }
   ],
   "source": [
    "toggle = widgets.ToggleButtons(\n",
    "    options=['Preview ', 'Info ', 'Stats '],\n",
    "    description='Options',\n",
    "    disabled=False,\n",
    "    button_style='warning',\n",
    "    icons=['search', 'info', 'tachometer']\n",
    ")\n",
    "#toggle.observe(desc_clicked,'value'))\n",
    "toggle\n"
   ]
  },
  {
   "cell_type": "markdown",
   "id": "d82127ff-4276-4cc7-be21-0acd3f402283",
   "metadata": {},
   "source": [
    "# DROPDOWN WİDGET"
   ]
  },
  {
   "cell_type": "code",
   "execution_count": 49,
   "id": "1e484560-a55d-4641-a50c-03a54dc64946",
   "metadata": {},
   "outputs": [
    {
     "data": {
      "application/vnd.jupyter.widget-view+json": {
       "model_id": "30f09c3acad148118d54404153c10eaa",
       "version_major": 2,
       "version_minor": 0
      },
      "text/plain": [
       "Dropdown(description='Chart Type:', options=('Bar Chart', 'Line Chart'), value='Bar Chart')"
      ]
     },
     "execution_count": 49,
     "metadata": {},
     "output_type": "execute_result"
    }
   ],
   "source": [
    "x_axis = widgets.Dropdown(\n",
    "    options=[''],\n",
    "    value='',\n",
    "    description='X-Axis:',\n",
    "    disabled=False,\n",
    ")\n",
    "\n",
    "y_axis = widgets.Dropdown(\n",
    "    options=[''],\n",
    "    value='',\n",
    "    description='Y-Axis:',\n",
    "    disabled=False,\n",
    ")\n",
    "\n",
    "graph_type = widgets.Dropdown(\n",
    "    options=['Bar Chart', 'Line Chart'],\n",
    "    value='Bar Chart',\n",
    "    description='Chart Type:',\n",
    "    disabled=False,\n",
    ")\n",
    "graph_type\n"
   ]
  },
  {
   "cell_type": "markdown",
   "id": "34f8a9cc-97a5-4e40-9f0c-ab5303da8619",
   "metadata": {},
   "source": [
    "# COLORPİCKER VE SON SEKME GRUPLAMA"
   ]
  },
  {
   "cell_type": "code",
   "execution_count": 52,
   "id": "87db3b28-b984-4ea1-b7b7-cf37fe1af31a",
   "metadata": {},
   "outputs": [
    {
     "data": {
      "application/vnd.jupyter.widget-view+json": {
       "model_id": "3e31db7ba2474db0a51e769b8044bdc7",
       "version_major": 2,
       "version_minor": 0
      },
      "text/plain": [
       "ColorPicker(value='lightblue', description='Color Picker: ')"
      ]
     },
     "execution_count": 52,
     "metadata": {},
     "output_type": "execute_result"
    }
   ],
   "source": [
    "color_picker = widgets.ColorPicker(\n",
    "    concise=False,\n",
    "    description='Color Picker: ',\n",
    "    value='lightblue',\n",
    "    disabled=False\n",
    ")\n",
    "color_picker\n"
   ]
  },
  {
   "cell_type": "markdown",
   "id": "c1914956-02f5-40d0-b8e8-dfbb25e6bf6d",
   "metadata": {},
   "source": [
    "# TÜM SEKMELERİ YERLEŞTİR"
   ]
  },
  {
   "cell_type": "code",
   "execution_count": 124,
   "id": "885f2d0f-f89c-4503-8a59-5c767f6d4a36",
   "metadata": {},
   "outputs": [
    {
     "data": {
      "application/vnd.jupyter.widget-view+json": {
       "model_id": "2f90a44f88d24a62bcccf349b748aa5a",
       "version_major": 2,
       "version_minor": 0
      },
      "text/plain": [
       "Tab(children=(VBox(children=(Accordion(children=(FileUpload(value=({'name': 'sudemjs.pdf', 'type': 'applicatio…"
      ]
     },
     "execution_count": 124,
     "metadata": {},
     "output_type": "execute_result"
    }
   ],
   "source": [
    "\n",
    "\n",
    "children = [\n",
    "    accordion_box,\n",
    "    widgets.VBox([toggle, out]),\n",
    "    widgets.VBox([\n",
    "        widgets.HBox([graph_type, color_picker]),\n",
    "        widgets.HBox([x_axis, y_axis]),\n",
    "        button_plot,\n",
    "        out\n",
    "    ])\n",
    "]\n",
    "\n",
    "tab.children = children\n",
    "tab.set_title(0, \"Upload\")\n",
    "tab.set_title(1, \"Describer\")\n",
    "tab.set_title(2, \"Plotter\")\n",
    "tab\n",
    "\n"
   ]
  },
  {
   "cell_type": "markdown",
   "id": "233ab4b9-ecf7-4fda-b493-0c85c7608d74",
   "metadata": {},
   "source": [
    "# VALUE İMPORT"
   ]
  },
  {
   "cell_type": "code",
   "execution_count": 66,
   "id": "a80bc874-ace0-4717-9a52-1c031c6fec59",
   "metadata": {},
   "outputs": [],
   "source": [
    "from io import StringIO\n",
    "import pandas as pd\n",
    "\n",
    "def content_parser():\n",
    "    if up.value == ():\n",
    "        with out:\n",
    "            print('No CSV loaded')\n",
    "    else:\n",
    "        # up.value şu şekilde: (('filename.csv', {'content': ..., 'metadata': ...}),)\n",
    "        file_tuple = up.value[0]  # ilk dosya\n",
    "        filedata = file_tuple[1]  # içindeki dict kısmı\n",
    "        typ = filedata['metadata']['type']\n",
    "\n",
    "        if typ == \"text/csv\":\n",
    "            content = filedata[\"content\"]\n",
    "            content_str = content.decode('utf-8')\n",
    "\n",
    "            # Temizleme (eraser widget kullanımı)\n",
    "            if eraser.value != ():\n",
    "                for val in eraser.value:\n",
    "                    if val == \"tab\":\n",
    "                        content_str = content_str.replace(\"\\t\", \"\")\n",
    "                    else:\n",
    "                        content_str = content_str.replace(val, \"\")\n",
    "\n",
    "            if content_str != \"\":\n",
    "                str_io = StringIO(content_str)\n",
    "                return str_io\n",
    "\n",
    "def df_converter():\n",
    "    content = content_parser()\n",
    "    if content is not None:\n",
    "        df = pd.read_csv(content, sep=delim.value, index_col=False, skiprows=rows.value)\n",
    "        return df\n",
    "    else:\n",
    "        return None\n"
   ]
  },
  {
   "cell_type": "code",
   "execution_count": 76,
   "id": "c8310207-bdb2-4d0e-a12b-e93f21ec4487",
   "metadata": {},
   "outputs": [],
   "source": [
    "df_converter()"
   ]
  },
  {
   "cell_type": "markdown",
   "id": "61003ab0-6a16-4155-984a-e031d2b33ceb",
   "metadata": {},
   "source": [
    "# button action"
   ]
  },
  {
   "cell_type": "markdown",
   "id": "a90f1099-4582-48d3-a7bb-52e3c92fbe4e",
   "metadata": {},
   "source": [
    "### preview button\n",
    "### upload button\n",
    "### description button\n",
    "### plot button"
   ]
  },
  {
   "cell_type": "markdown",
   "id": "3a527b48-e6d6-4c9e-b9cb-f126efeacdae",
   "metadata": {},
   "source": [
    "# PREVİEW BUTTON"
   ]
  },
  {
   "cell_type": "code",
   "execution_count": 81,
   "id": "988d75f7-cf5e-4984-a21a-aab2e36668d2",
   "metadata": {},
   "outputs": [],
   "source": [
    "def preview():\n",
    "    df = df_converter()\n",
    "    with out:\n",
    "        out.clear_output()\n",
    "        print('\\n --------Now this is how your DF looks like:-------- \\n')\n",
    "        if df is not None:\n",
    "            print(df.head(10))\n",
    "        else:\n",
    "            print('Configuration is wrong/missing...')\n"
   ]
  },
  {
   "cell_type": "code",
   "execution_count": 83,
   "id": "73ce5c8a-488a-4cc0-a729-63fc59920c62",
   "metadata": {},
   "outputs": [],
   "source": [
    "def preview_clicked(b):\n",
    "    preview()\n",
    "\n",
    "button_preview.on_click(preview_clicked)\n"
   ]
  },
  {
   "cell_type": "markdown",
   "id": "3fbd0181-ff95-4f7f-89c5-2b0c5e51e240",
   "metadata": {},
   "source": [
    "# UPLOAD BUTTON"
   ]
  },
  {
   "cell_type": "code",
   "execution_count": 120,
   "id": "c15812fa-0b28-4a04-91f3-74ad6f9c506d",
   "metadata": {},
   "outputs": [],
   "source": [
    "def upload():\n",
    "    df = df_converter()\n",
    "    with out:\n",
    "        out.clear_output()\n",
    "        print('\\n --------Your uploaded DF looks like:-------- \\n')\n",
    "        if df is not None:\n",
    "            print(df)\n",
    "            x_axis.options = df.columns\n",
    "            y_axis.options = df.columns\n",
    "        else:\n",
    "            print('Configuration is wrong/missing...')\n",
    "\n"
   ]
  },
  {
   "cell_type": "code",
   "execution_count": 88,
   "id": "b7aaa7ae-84e7-42c6-ac66-e1aab0da70c0",
   "metadata": {},
   "outputs": [],
   "source": [
    "def upload_clicked(b):\n",
    "    upload()\n",
    "\n",
    "button_upload.on_click(upload_clicked)\n"
   ]
  },
  {
   "cell_type": "markdown",
   "id": "2bb786a7-3650-437a-a422-1dcd79d28e7b",
   "metadata": {},
   "source": [
    "# DESCRİPTİON TOGGLEBUTTON"
   ]
  },
  {
   "cell_type": "code",
   "execution_count": 93,
   "id": "7a3d21d1-e542-468a-bf9b-56319d0810c6",
   "metadata": {},
   "outputs": [],
   "source": [
    "def desc():\n",
    "    info_level = toggle.value\n",
    "    if info_level != {}:\n",
    "        df = df_converter()\n",
    "        with out:\n",
    "            out.clear_output()\n",
    "            print('\\n --------Your {} looks like:-------- \\n'.format(info_level))\n",
    "            if df is not None:\n",
    "                if info_level == 'Info ':\n",
    "                    print(df.info(verbose=True))\n",
    "                elif info_level == 'Stats ':\n",
    "                    print(df.describe())\n",
    "                elif info_level == 'Preview ':\n",
    "                    print(df.head(5))\n",
    "            else:\n",
    "                print('Configuration is wrong/missing...')\n"
   ]
  },
  {
   "cell_type": "code",
   "execution_count": 95,
   "id": "7edd307e-c289-43b8-9cf1-e00205f3ba21",
   "metadata": {},
   "outputs": [],
   "source": [
    "def desc_clicked(b):\n",
    "    desc()\n",
    "\n",
    "toggle.observe(desc_clicked, 'value')\n"
   ]
  },
  {
   "cell_type": "markdown",
   "id": "93b0fedb-3d7d-4fd9-a94a-664821f5108e",
   "metadata": {},
   "source": [
    "# PLOT BUTTON"
   ]
  },
  {
   "cell_type": "code",
   "execution_count": 98,
   "id": "6688c6af-db2c-4a36-b69f-d7baaaee7b81",
   "metadata": {},
   "outputs": [],
   "source": [
    "def plot():\n",
    "    graph = graph_type.value\n",
    "    if graph != {}:\n",
    "        df = df_converter()\n",
    "        with out:\n",
    "            out.clear_output()\n",
    "            print('\\n --------Your {} looks like:-------- \\n'.format(graph))\n",
    "            if df is not None:\n",
    "                #df = df.head(5)\n",
    "                height = df[y_axis.value]\n",
    "                bars = df[x_axis.value]\n",
    "                y_pos = np.arange(len(height))\n",
    "                plt.figure(figsize=(10,4))\n",
    "                if graph == 'Bar Chart':\n",
    "                    \n",
    "                    # Create bars\n",
    "                    plt.bar(\n",
    "                        y_pos,\n",
    "                        height,\n",
    "                        color=color_picker.value\n",
    "                    )\n",
    "                    \n",
    "                    # Create names on the x-axis\n",
    "                    plt.xticks(y_pos, bars)\n",
    "                \n",
    "                elif graph == 'Line Chart':\n",
    "                    plt.plot(\n",
    "                        bars,\n",
    "                        height,\n",
    "                        color=color_picker.value,\n",
    "                        marker='o',\n",
    "                        linestyle='solid'\n",
    "                    )\n",
    "                    plt.xticks(bars)\n",
    "                \n",
    "                # Show graphic\n",
    "                plt.show()\n"
   ]
  },
  {
   "cell_type": "code",
   "execution_count": 100,
   "id": "2d87c259-3e92-4fb7-861b-6a19d2e98bd4",
   "metadata": {},
   "outputs": [],
   "source": [
    "def plotter_clicked(b):\n",
    "    plot()\n",
    "\n",
    "button_plot.on_click(plotter_clicked)\n"
   ]
  },
  {
   "cell_type": "code",
   "execution_count": 126,
   "id": "c5a029bb-1380-44f3-98a0-063e1f9a48aa",
   "metadata": {},
   "outputs": [
    {
     "data": {
      "application/vnd.jupyter.widget-view+json": {
       "model_id": "2f90a44f88d24a62bcccf349b748aa5a",
       "version_major": 2,
       "version_minor": 0
      },
      "text/plain": [
       "Tab(children=(VBox(children=(Accordion(children=(FileUpload(value=({'name': 'sudemjs.pdf', 'type': 'applicatio…"
      ]
     },
     "execution_count": 126,
     "metadata": {},
     "output_type": "execute_result"
    }
   ],
   "source": [
    "tab"
   ]
  },
  {
   "cell_type": "code",
   "execution_count": null,
   "id": "a975afc7-810d-4d10-9e76-1de6c804adbf",
   "metadata": {},
   "outputs": [],
   "source": []
  }
 ],
 "metadata": {
  "kernelspec": {
   "display_name": "Python [conda env:base] *",
   "language": "python",
   "name": "conda-base-py"
  },
  "language_info": {
   "codemirror_mode": {
    "name": "ipython",
    "version": 3
   },
   "file_extension": ".py",
   "mimetype": "text/x-python",
   "name": "python",
   "nbconvert_exporter": "python",
   "pygments_lexer": "ipython3",
   "version": "3.12.3"
  }
 },
 "nbformat": 4,
 "nbformat_minor": 5
}
